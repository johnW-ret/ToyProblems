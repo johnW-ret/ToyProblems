{
 "cells": [
  {
   "cell_type": "markdown",
   "metadata": {},
   "source": [
    "Collections\n",
    "===\n",
    "\n",
    "Problems that involve arrays, lists, and sequences... I borrow the term \"Collections\" from .NET. \n",
    "\n",
    "This is an incredibly broad category, so I may find that I wish to break this up into a new notebook in the future."
   ]
  },
  {
   "cell_type": "markdown",
   "metadata": {},
   "source": [
    "## 00 Find Median\n",
    "### Description\n",
    "...\n",
    "\n",
    "### Solution\n",
    "| In-place? | Type |\n",
    "| -------- | -------- |\n",
    "| Yes | `Span<int>` |\n",
    "\n",
    "A solution to find the median of an array by hijacking a quicksort implementation. Note the use of `Span<T>` which provides type safety and memory safety without allocations when slicing the array.\n",
    "\n",
    "I'd like to share some of this logic to write a proper quicksort, but since sorting is a \"solved problem\" for real-world purposes - I didn't bother. Note that searching for the median means that when splitting the array around your pivot, you only have to recurse down on the part you care about unlike a true quick sort. I also didn't bother making the method generic, which would be nice."
   ]
  },
  {
   "cell_type": "code",
   "execution_count": 59,
   "metadata": {
    "dotnet_interactive": {
     "language": "csharp"
    },
    "polyglot_notebook": {
     "kernelName": "csharp"
    }
   },
   "outputs": [],
   "source": [
    "// extracts the median value from a Span<int>. mutates the Span<int>\n",
    "static double QuickMedian(Span<int> span)\n",
    "{\n",
    "    // get partition pivot and ranges from Span<int>\n",
    "    (int, Range, Range) GetPartition(Span<int> span)\n",
    "    {\n",
    "        int pivot = Partition(span);\n",
    "\n",
    "        var front = (pivot + 1)..;\n",
    "        var back = 0..pivot;\n",
    "\n",
    "        return (pivot, front, back);\n",
    "    }\n",
    "\n",
    "    // partitions a Span<int> around the last element. mutates the Span<int>\n",
    "    static int Partition(Span<int> span)\n",
    "    {\n",
    "        // set the pivot as the last element\n",
    "        int pivot = span[^1];\n",
    "\n",
    "        int forwardIndex = -1;\n",
    "\n",
    "        // scan backwards and swap to orient values around pivot\n",
    "        for (int backwardIndex = 0; backwardIndex < span.Length - 1; backwardIndex++)\n",
    "        {\n",
    "            if (span[backwardIndex] <= pivot)\n",
    "            {\n",
    "                (span[backwardIndex], span[++forwardIndex]) // swap\n",
    "                    = (span[forwardIndex], span[backwardIndex]);\n",
    "            }\n",
    "        }\n",
    "\n",
    "        // swap in pivot from end and return pivot\n",
    "        (span[++forwardIndex], span[^1]) = (span[^1], span[forwardIndex]);\n",
    "\n",
    "        return forwardIndex;\n",
    "    }\n",
    "\n",
    "    double QuickMedianEven(Span<int> span, int middle)\n",
    "    {\n",
    "        var (pivot, front, back) = GetPartition(span);\n",
    "\n",
    "        return pivot switch\n",
    "        {\n",
    "            // if the pivot hits either median, just brute force to get the other\n",
    "            var p when p == middle => (span[p] + span[front].ToArray().Min()) / 2d,\n",
    "            var p when p == middle + 1 => (span[p] + span[back].ToArray().Max()) / 2d,\n",
    "            // if pivot is < the median, choose the right partition (median is in right)\n",
    "            var p when p < middle => QuickMedianEven(span[front], middle - (span.Length - span[front].Length)),\n",
    "            // if pivot is > the median, choose the left partition\n",
    "            _ => QuickMedianEven(span[back], middle)\n",
    "        };\n",
    "    }\n",
    "\n",
    "    double QuickMedianOdd(Span<int> span, int middle)\n",
    "    {\n",
    "        var (pivot, front, back) = GetPartition(span);\n",
    "\n",
    "        return pivot switch\n",
    "        {\n",
    "            var p when p == middle => span[middle], // we found the median\n",
    "            // move left or right, as above\n",
    "            var p when p < middle => QuickMedianOdd(span[front], middle - (span.Length - span[front].Length)),\n",
    "            _ => QuickMedianOdd(span[back], middle)\n",
    "        };\n",
    "    }\n",
    "\n",
    "    if (span is [])\n",
    "        throw new EmptyArrayNotSupportedException();\n",
    "\n",
    "    return span.Length % 2 == 0\n",
    "        ?\n",
    "        QuickMedianEven(span, (span.Length - 1) / 2)\n",
    "        :\n",
    "        QuickMedianOdd(span, (span.Length - 1) / 2);\n",
    "}\n",
    "\n",
    "public class EmptyArrayNotSupportedException : Exception\n",
    "{\n",
    "    public EmptyArrayNotSupportedException() : base(\"Empty arrays are not supported.\")\n",
    "    {\n",
    "    }\n",
    "\n",
    "    public EmptyArrayNotSupportedException(string message) : base(message)\n",
    "    {\n",
    "    }\n",
    "\n",
    "    public EmptyArrayNotSupportedException(string message, Exception innerException) : base(message, innerException)\n",
    "    {\n",
    "    }\n",
    "}"
   ]
  },
  {
   "cell_type": "code",
   "execution_count": 58,
   "metadata": {
    "dotnet_interactive": {
     "language": "csharp"
    },
    "polyglot_notebook": {
     "kernelName": "csharp"
    }
   },
   "outputs": [
    {
     "data": {
      "text/csv": [
       "Array,Median\r\n",
       "System.Int32[],13\r\n",
       "System.Int32[],8\r\n",
       "System.Int32[],10\r\n",
       "System.Int32[],7\r\n",
       "System.Int32[],10\r\n",
       "System.Int32[],5.5\r\n",
       "System.Int32[],6.5\r\n",
       "System.Int32[],3.5\r\n",
       "System.Int32[],9\r\n",
       "System.Int32[],2\r\n",
       "System.Int32[],8\r\n",
       "System.Int32[],8.5\r\n",
       "System.Int32[],6\r\n",
       "System.Int32[],10.5\r\n",
       "System.Int32[],12.5\r\n",
       "System.Int32[],10\r\n",
       "System.Int32[],6\r\n",
       "System.Int32[],7\r\n",
       "System.Int32[],7\r\n",
       "System.Int32[],10.5\r\n"
      ],
      "text/html": [
       "<table><thead><tr><td><span>Array</span></td><td><span>Median</span></td></tr></thead><tbody><tr><td><div class=\"dni-plaintext\"><pre>[ 0, 7, 5, 1, 9, 11, 13, 13, 17, 18, 18, 16, 15 ]</pre></div></td><td><div class=\"dni-plaintext\"><pre>13</pre></div></td></tr><tr><td><div class=\"dni-plaintext\"><pre>[ 8 ]</pre></div></td><td><div class=\"dni-plaintext\"><pre>8</pre></div></td></tr><tr><td><div class=\"dni-plaintext\"><pre>[ 1, 0, 3, 3, 6, 7, 7, 9, 9, 11, 12, 12, 14, 14, 17, 15, 17, 15 ]</pre></div></td><td><div class=\"dni-plaintext\"><pre>10</pre></div></td></tr><tr><td><div class=\"dni-plaintext\"><pre>[ 0, 1, 2, 3, 7, 7, 7, 19, 11, 14 ]</pre></div></td><td><div class=\"dni-plaintext\"><pre>7</pre></div></td></tr><tr><td><div class=\"dni-plaintext\"><pre>[ 3, 4, 8, 3, 10, 12, 13, 12, 11 ]</pre></div></td><td><div class=\"dni-plaintext\"><pre>10</pre></div></td></tr><tr><td><div class=\"dni-plaintext\"><pre>[ 3, 1, 1, 2, 5, 6, 17, 14, 19, 9 ]</pre></div></td><td><div class=\"dni-plaintext\"><pre>5.5</pre></div></td></tr><tr><td><div class=\"dni-plaintext\"><pre>[ 3, 3, 2, 3, 5, 6, 7, 8, 9, 14, 17, 19 ]</pre></div></td><td><div class=\"dni-plaintext\"><pre>6.5</pre></div></td></tr><tr><td><div class=\"dni-plaintext\"><pre>[ 1, 1, 2, 5, 9, 15 ]</pre></div></td><td><div class=\"dni-plaintext\"><pre>3.5</pre></div></td></tr><tr><td><div class=\"dni-plaintext\"><pre>[ 9, 9, 9, 11, 11 ]</pre></div></td><td><div class=\"dni-plaintext\"><pre>9</pre></div></td></tr><tr><td><div class=\"dni-plaintext\"><pre>[ 2 ]</pre></div></td><td><div class=\"dni-plaintext\"><pre>2</pre></div></td></tr><tr><td><div class=\"dni-plaintext\"><pre>[ 3, 6, 8, 18, 17 ]</pre></div></td><td><div class=\"dni-plaintext\"><pre>8</pre></div></td></tr><tr><td><div class=\"dni-plaintext\"><pre>[ 1, 2, 6, 8, 8, 13, 11, 9, 14, 16 ]</pre></div></td><td><div class=\"dni-plaintext\"><pre>8.5</pre></div></td></tr><tr><td><div class=\"dni-plaintext\"><pre>[ 0, 2, 0, 2, 1, 2, 2, 4, 5, 6, 7, 9, 9, 15, 12, 15, 15, 18, 16 ]</pre></div></td><td><div class=\"dni-plaintext\"><pre>6</pre></div></td></tr><tr><td><div class=\"dni-plaintext\"><pre>[ 0, 1, 9, 12, 14, 18 ]</pre></div></td><td><div class=\"dni-plaintext\"><pre>10.5</pre></div></td></tr><tr><td><div class=\"dni-plaintext\"><pre>[ 8, 11, 14, 18 ]</pre></div></td><td><div class=\"dni-plaintext\"><pre>12.5</pre></div></td></tr><tr><td><div class=\"dni-plaintext\"><pre>[ 2, 3, 2, 0, 1, 6, 7, 8, 9, 12, 11, 13, 17, 18, 18, 18, 19, 19 ]</pre></div></td><td><div class=\"dni-plaintext\"><pre>10</pre></div></td></tr><tr><td><div class=\"dni-plaintext\"><pre>[ 0, 1, 1, 3, 6, 6, 9, 9, 19 ]</pre></div></td><td><div class=\"dni-plaintext\"><pre>6</pre></div></td></tr><tr><td><div class=\"dni-plaintext\"><pre>[ 2, 2, 6, 7, 11, 13, 13 ]</pre></div></td><td><div class=\"dni-plaintext\"><pre>7</pre></div></td></tr><tr><td><div class=\"dni-plaintext\"><pre>[ 0, 0, 1, 3, 4, 4, 6, 6, 8, 9, 11, 11, 14, 12, 19, 14 ]</pre></div></td><td><div class=\"dni-plaintext\"><pre>7</pre></div></td></tr><tr><td><div class=\"dni-plaintext\"><pre>[ 4, 17 ]</pre></div></td><td><div class=\"dni-plaintext\"><pre>10.5</pre></div></td></tr></tbody></table><style>\r\n",
       ".dni-code-hint {\r\n",
       "    font-style: italic;\r\n",
       "    overflow: hidden;\r\n",
       "    white-space: nowrap;\r\n",
       "}\r\n",
       ".dni-treeview {\r\n",
       "    white-space: nowrap;\r\n",
       "}\r\n",
       ".dni-treeview td {\r\n",
       "    vertical-align: top;\r\n",
       "    text-align: start;\r\n",
       "}\r\n",
       "details.dni-treeview {\r\n",
       "    padding-left: 1em;\r\n",
       "}\r\n",
       "table td {\r\n",
       "    text-align: start;\r\n",
       "}\r\n",
       "table tr { \r\n",
       "    vertical-align: top; \r\n",
       "    margin: 0em 0px;\r\n",
       "}\r\n",
       "table tr td pre \r\n",
       "{ \r\n",
       "    vertical-align: top !important; \r\n",
       "    margin: 0em 0px !important;\r\n",
       "} \r\n",
       "table th {\r\n",
       "    text-align: start;\r\n",
       "}\r\n",
       "</style>"
      ]
     },
     "metadata": {},
     "output_type": "display_data"
    }
   ],
   "source": [
    "Enumerable.Range(1, 20)\n",
    "    .Select(_ => Enumerable.Range(1, Random.Shared.Next(19) + 1)\n",
    "        .Select(_ => Random.Shared.Next(20)).ToArray())\n",
    "    .Select(arr => new { Array = arr, Median = QuickMedian(arr) })\n",
    "    .DisplayTable()"
   ]
  }
 ],
 "metadata": {
  "kernelspec": {
   "display_name": ".NET (C#)",
   "language": "C#",
   "name": ".net-csharp"
  },
  "language_info": {
   "name": "polyglot-notebook"
  },
  "polyglot_notebook": {
   "kernelInfo": {
    "defaultKernelName": "csharp",
    "items": [
     {
      "aliases": [],
      "languageName": "csharp",
      "name": "csharp"
     }
    ]
   }
  }
 },
 "nbformat": 4,
 "nbformat_minor": 2
}
