{
 "cells": [
  {
   "cell_type": "markdown",
   "metadata": {},
   "source": [
    "Math\n",
    "==="
   ]
  },
  {
   "cell_type": "markdown",
   "metadata": {},
   "source": [
    "## 00 Find Numbers of Sole Prime Factors\n",
    "### Description\n",
    "From integers `n` to `m`, count the numbers that have sole prime factors $x_p$.\n",
    "\n",
    "The original question I saw this in had specific numbers for $x_p$, but it makes more sense to me to generalize it. The original question was part of a timed test, and I freak out with timed tests and couldn't answer it, which is the only reason I include this problem here.\n",
    "\n",
    "### Solution\n"
   ]
  },
  {
   "cell_type": "markdown",
   "metadata": {},
   "source": [
    "Once I thought about the original problem for a few minutes after the timer expired, I came up with something similar to what is below."
   ]
  },
  {
   "cell_type": "code",
   "execution_count": 29,
   "metadata": {
    "dotnet_interactive": {
     "language": "csharp"
    },
    "polyglot_notebook": {
     "kernelName": "csharp"
    },
    "vscode": {
     "languageId": "polyglot-notebook"
    }
   },
   "outputs": [
    {
     "data": {
      "text/html": [
       "<div class=\"dni-plaintext\"><pre>4</pre></div><style>\r\n",
       ".dni-code-hint {\r\n",
       "    font-style: italic;\r\n",
       "    overflow: hidden;\r\n",
       "    white-space: nowrap;\r\n",
       "}\r\n",
       ".dni-treeview {\r\n",
       "    white-space: nowrap;\r\n",
       "}\r\n",
       ".dni-treeview td {\r\n",
       "    vertical-align: top;\r\n",
       "    text-align: start;\r\n",
       "}\r\n",
       "details.dni-treeview {\r\n",
       "    padding-left: 1em;\r\n",
       "}\r\n",
       "table td {\r\n",
       "    text-align: start;\r\n",
       "}\r\n",
       "table tr { \r\n",
       "    vertical-align: top; \r\n",
       "    margin: 0em 0px;\r\n",
       "}\r\n",
       "table tr td pre \r\n",
       "{ \r\n",
       "    vertical-align: top !important; \r\n",
       "    margin: 0em 0px !important;\r\n",
       "} \r\n",
       "table th {\r\n",
       "    text-align: start;\r\n",
       "}\r\n",
       "</style>"
      ]
     },
     "metadata": {},
     "output_type": "display_data"
    }
   ],
   "source": [
    "int min = 200, max = 405, count = 0;\n",
    "\n",
    "for (int i = min; i <= max; i++)\n",
    "{\n",
    "    int n = i;\n",
    "\n",
    "    while (n % 3 == 0)\n",
    "    {\n",
    "        n /= 3;\n",
    "    }\n",
    "\n",
    "    if (n == 1)\n",
    "    {\n",
    "        count++;\n",
    "        continue;\n",
    "    }\n",
    "\n",
    "    while (n % 5 == 0)\n",
    "    {\n",
    "        n /= 5;\n",
    "    }\n",
    "\n",
    "    if (n == 1)\n",
    "    {\n",
    "        count++;\n",
    "    }\n",
    "}\n",
    "\n",
    "count"
   ]
  },
  {
   "cell_type": "markdown",
   "metadata": {},
   "source": [
    "I tried to generalize the problem and then realized this would be a great problem for F#. I felt I was over complicating the problem, so I asked Bing Chat about this part of the subproblem, and then had to modify what it gave me a bit which resulted in the below function."
   ]
  },
  {
   "cell_type": "code",
   "execution_count": 47,
   "metadata": {
    "dotnet_interactive": {
     "language": "fsharp"
    },
    "polyglot_notebook": {
     "kernelName": "fsharp"
    },
    "vscode": {
     "languageId": "polyglot-notebook"
    }
   },
   "outputs": [
    {
     "data": {
      "text/html": [
       "<div class=\"dni-plaintext\"><pre>[ True, False ]</pre></div><style>\r\n",
       ".dni-code-hint {\r\n",
       "    font-style: italic;\r\n",
       "    overflow: hidden;\r\n",
       "    white-space: nowrap;\r\n",
       "}\r\n",
       ".dni-treeview {\r\n",
       "    white-space: nowrap;\r\n",
       "}\r\n",
       ".dni-treeview td {\r\n",
       "    vertical-align: top;\r\n",
       "    text-align: start;\r\n",
       "}\r\n",
       "details.dni-treeview {\r\n",
       "    padding-left: 1em;\r\n",
       "}\r\n",
       "table td {\r\n",
       "    text-align: start;\r\n",
       "}\r\n",
       "table tr { \r\n",
       "    vertical-align: top; \r\n",
       "    margin: 0em 0px;\r\n",
       "}\r\n",
       "table tr td pre \r\n",
       "{ \r\n",
       "    vertical-align: top !important; \r\n",
       "    margin: 0em 0px !important;\r\n",
       "} \r\n",
       "table th {\r\n",
       "    text-align: start;\r\n",
       "}\r\n",
       "</style>"
      ]
     },
     "metadata": {},
     "output_type": "display_data"
    }
   ],
   "source": [
    "let isSolelyDivisibleByList (n:int) (list:int list) =\n",
    "    let mutable x = n\n",
    "    for factor in list do\n",
    "        while x % factor = 0 do\n",
    "            x <- x / factor\n",
    "    x = 1\n",
    "\n",
    "[15; 60] |> Seq.map (fun n -> isSolelyDivisibleByList n [3; 5]) |> Array.ofSeq"
   ]
  },
  {
   "cell_type": "markdown",
   "metadata": {},
   "source": [
    "Now we have our generic test function, which we can bind to $x_p$, and then we can replace our `while` loop with a `fold` to count elements that satisfy the function."
   ]
  },
  {
   "cell_type": "code",
   "execution_count": 54,
   "metadata": {
    "dotnet_interactive": {
     "language": "fsharp"
    },
    "polyglot_notebook": {
     "kernelName": "fsharp"
    },
    "vscode": {
     "languageId": "polyglot-notebook"
    }
   },
   "outputs": [
    {
     "data": {
      "text/html": [
       "<div class=\"dni-plaintext\"><pre>135</pre></div><style>\r\n",
       ".dni-code-hint {\r\n",
       "    font-style: italic;\r\n",
       "    overflow: hidden;\r\n",
       "    white-space: nowrap;\r\n",
       "}\r\n",
       ".dni-treeview {\r\n",
       "    white-space: nowrap;\r\n",
       "}\r\n",
       ".dni-treeview td {\r\n",
       "    vertical-align: top;\r\n",
       "    text-align: start;\r\n",
       "}\r\n",
       "details.dni-treeview {\r\n",
       "    padding-left: 1em;\r\n",
       "}\r\n",
       "table td {\r\n",
       "    text-align: start;\r\n",
       "}\r\n",
       "table tr { \r\n",
       "    vertical-align: top; \r\n",
       "    margin: 0em 0px;\r\n",
       "}\r\n",
       "table tr td pre \r\n",
       "{ \r\n",
       "    vertical-align: top !important; \r\n",
       "    margin: 0em 0px !important;\r\n",
       "} \r\n",
       "table th {\r\n",
       "    text-align: start;\r\n",
       "}\r\n",
       "</style>"
      ]
     },
     "metadata": {},
     "output_type": "display_data"
    }
   ],
   "source": [
    "let min = 200\n",
    "let max = 405\n",
    "\n",
    "let isSolelyDivisibleByListWeCareAbout n = [3;5] |> isSolelyDivisibleByList n\n",
    "\n",
    "seq { 200 .. 2147483647 } |> Seq.fold (fun acc listItem ->\n",
    "    if isSolelyDivisibleByListWeCareAbout listItem then acc + 1 else acc) 0"
   ]
  },
  {
   "cell_type": "markdown",
   "metadata": {},
   "source": [
    "## 01 Fibonacci Sequence\n",
    "### Description\n",
    "A function that returns the nth value of the Fibonacci sequence.\n",
    "\n",
    "### Solution\n",
    "The standard solution is a stereotypical example to demonstrate recursion in programming languages, but it's actually a terribly unoptimized way to find the fibonacci sequence."
   ]
  },
  {
   "cell_type": "code",
   "execution_count": 15,
   "metadata": {
    "dotnet_interactive": {
     "language": "fsharp"
    },
    "polyglot_notebook": {
     "kernelName": "fsharp"
    },
    "vscode": {
     "languageId": "polyglot-notebook"
    }
   },
   "outputs": [
    {
     "data": {
      "text/html": [
       "<div class=\"dni-plaintext\"><pre>144</pre></div><style>\r\n",
       ".dni-code-hint {\r\n",
       "    font-style: italic;\r\n",
       "    overflow: hidden;\r\n",
       "    white-space: nowrap;\r\n",
       "}\r\n",
       ".dni-treeview {\r\n",
       "    white-space: nowrap;\r\n",
       "}\r\n",
       ".dni-treeview td {\r\n",
       "    vertical-align: top;\r\n",
       "    text-align: start;\r\n",
       "}\r\n",
       "details.dni-treeview {\r\n",
       "    padding-left: 1em;\r\n",
       "}\r\n",
       "table td {\r\n",
       "    text-align: start;\r\n",
       "}\r\n",
       "table tr { \r\n",
       "    vertical-align: top; \r\n",
       "    margin: 0em 0px;\r\n",
       "}\r\n",
       "table tr td pre \r\n",
       "{ \r\n",
       "    vertical-align: top !important; \r\n",
       "    margin: 0em 0px !important;\r\n",
       "} \r\n",
       "table th {\r\n",
       "    text-align: start;\r\n",
       "}\r\n",
       "</style>"
      ]
     },
     "metadata": {},
     "output_type": "display_data"
    }
   ],
   "source": [
    "let rec fib n = \n",
    "    match n with\n",
    "    | 0 -> 0\n",
    "    | 1 -> 1\n",
    "    | _ -> fib (n - 1) + fib (n - 2)\n",
    "\n",
    "fib 12"
   ]
  },
  {
   "cell_type": "markdown",
   "metadata": {},
   "source": [
    "The faster solution doesn't have much to do with programming itself but moreso math - and because of the memorization necessary, if I was asked to do this in an interview I'd probably die. However, it seems fun and potentially useful so I'd like to show an example here."
   ]
  },
  {
   "cell_type": "markdown",
   "metadata": {},
   "source": [
    "The fibonacci sequence can be defined by the following recurrence\n",
    "\n",
    "$$f_n=f_{n-1}+f_{n-2}$$\n",
    "\n",
    "The goal is to get the recurrence into a \"generalized solution\", which is a linear equation that is defined in terms of roots of $r$ of the recurrence's \"characteristic equation\" and the base cases of the recurrence.\n",
    "\n",
    "To simplify that sentence, we'll break it into two parts:\n",
    "1. find base cases of recurrence\n",
    "2. get characteristic equation\n",
    "3. get generalized solution"
   ]
  },
  {
   "cell_type": "markdown",
   "metadata": {},
   "source": [
    "#### 1. Find Base Cases\n",
    "This part is pretty trivial. We found the base cases in our original definition of our recurrence.\n",
    "\n",
    "$$f_0=0$$\n",
    "$$f_1=1$$"
   ]
  },
  {
   "cell_type": "markdown",
   "metadata": {},
   "source": [
    "#### 2. Get Characteristic Equation\n",
    "The goal is to get the recurrence into the \"characteristic equation\", which is a polynomial where $f_n=r^n$.\n",
    "\n",
    "We'll now update our steps to include a substep:\n",
    "\n",
    "1. find base cases of recurrence\n",
    "2. get characteristic equation\n",
    "    1. get characteristic equation\n",
    "    2. get roots of $r$ of characteristic equation\n",
    "3. get generalized solution in terms of $r$ and base cases"
   ]
  },
  {
   "cell_type": "markdown",
   "metadata": {},
   "source": [
    "##### 2.1 Get Characteristic Equation\n",
    "In a different recurrence, we'd have to account for the co-efficients and define a \"recurrence relation\", but the fibonacci sequence is so simple we can just substitute the symbols.\n",
    "\n",
    "$$f_n=f_{n-1}+f_{n-2}$$\n",
    "where\n",
    "$$f_n=r^n$$\n",
    "is\n",
    "\n",
    "$$r^n=r^{n-1}+r^{n-2}$$"
   ]
  },
  {
   "cell_type": "markdown",
   "metadata": {},
   "source": [
    "##### 2.2 Get Roots of Characteristic Equation\n",
    "$$r^n=r^{n-1}+r^{n-2}$$\n",
    "Goal: $r_1, r_2$\n",
    "\n",
    "(We can view above as polynomial, e.g., multiply equation by $r^{2-n}$)\n",
    "$$\\frac{-b\\pm\\sqrt{b^2-4ac}}{2a}$$\n",
    "$$\\frac{-(1)\\pm\\sqrt{(1)^2-4(-1)(1)}}{2(-1)}$$\n",
    "$$r=\\frac{1\\pm\\sqrt{5}}{2}$$"
   ]
  },
  {
   "cell_type": "markdown",
   "metadata": {},
   "source": [
    "#### 3. Get Generalized Solution\n",
    "\n",
    "Generalized solutions are of the form depending on the number of roots of $r$:\n",
    "$$f_n = A * {r_1}^n + B * {r_2}^n + C * {r_k}^n$$\n",
    "\n",
    "In our case, we have two:\n",
    "$$f_n = A * {r_1}^n + B * {r_2}^n$$\n",
    "\n",
    "Because we have base cases of $f_n$, we can always (?) solve for our co-efficients.\n",
    "\n",
    "$$f_0=0, f_1=1$$\n",
    "\n",
    "Here is one such way:\n",
    "\n",
    "$$0 = A * {\\left(\\frac{1 + \\sqrt{5}}{2}\\right)}^0 + B * {\\left(\\frac{1 - \\sqrt{5}}{2}\\right)}^0$$\n",
    "$$0 = A + B$$\n",
    "$$A = -B$$\n",
    "\n",
    "$$1 = A * {\\left(\\frac{1 + \\sqrt{5}}{2}\\right)}^1 - A * {\\left(\\frac{1 - \\sqrt{5}}{2}\\right)}^1$$\n",
    "$$1 = \\frac{1}{2}A + \\frac{\\sqrt{5}}{2}A -\\frac{1}{2}A + \\frac{\\sqrt{5}}{2}A$$\n",
    "$$A = \\frac{1}{\\sqrt{5}}$$\n",
    "$$B = -\\frac{1}{\\sqrt{5}}$$\n",
    "\n",
    "I don't know why this works but it does.\n",
    "\n",
    "$$f_n = \\frac{1}{\\sqrt{5}} * \\left(\\frac{1 + \\sqrt{5}}{2}\\right)^n - \\frac{1}{\\sqrt{5}} * \\left(\\frac{1 - \\sqrt{5}}{2}\\right)^n$$\n",
    "\n",
    "All we have to do now is just convert this to code."
   ]
  },
  {
   "cell_type": "code",
   "execution_count": 6,
   "metadata": {
    "dotnet_interactive": {
     "language": "fsharp"
    },
    "polyglot_notebook": {
     "kernelName": "fsharp"
    },
    "vscode": {
     "languageId": "polyglot-notebook"
    }
   },
   "outputs": [
    {
     "data": {
      "text/html": [
       "<div class=\"dni-plaintext\"><pre>233</pre></div><style>\r\n",
       ".dni-code-hint {\r\n",
       "    font-style: italic;\r\n",
       "    overflow: hidden;\r\n",
       "    white-space: nowrap;\r\n",
       "}\r\n",
       ".dni-treeview {\r\n",
       "    white-space: nowrap;\r\n",
       "}\r\n",
       ".dni-treeview td {\r\n",
       "    vertical-align: top;\r\n",
       "    text-align: start;\r\n",
       "}\r\n",
       "details.dni-treeview {\r\n",
       "    padding-left: 1em;\r\n",
       "}\r\n",
       "table td {\r\n",
       "    text-align: start;\r\n",
       "}\r\n",
       "table tr { \r\n",
       "    vertical-align: top; \r\n",
       "    margin: 0em 0px;\r\n",
       "}\r\n",
       "table tr td pre \r\n",
       "{ \r\n",
       "    vertical-align: top !important; \r\n",
       "    margin: 0em 0px !important;\r\n",
       "} \r\n",
       "table th {\r\n",
       "    text-align: start;\r\n",
       "}\r\n",
       "</style>"
      ]
     },
     "metadata": {},
     "output_type": "display_data"
    }
   ],
   "source": [
    "let sqrt5 = sqrt 5.0\n",
    "let oneOverSqrt5 = 1.0 / sqrt5\n",
    "let term n op = ((op 1.0 sqrt5) / 2.0) ** n\n",
    "\n",
    "let characteristicFib n = \n",
    "    (int)(oneOverSqrt5 * term n (+) - oneOverSqrt5 * term n (-))\n",
    "\n",
    "characteristicFib 13"
   ]
  }
 ],
 "metadata": {
  "language_info": {
   "name": "csharp"
  },
  "orig_nbformat": 4
 },
 "nbformat": 4,
 "nbformat_minor": 2
}
