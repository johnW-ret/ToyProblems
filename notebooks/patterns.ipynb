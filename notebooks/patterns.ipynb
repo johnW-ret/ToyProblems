{
 "cells": [
  {
   "cell_type": "markdown",
   "metadata": {},
   "source": [
    "Patterns\n",
    "========\n",
    "\n",
    "This notebook involves the usage of general patterns - not necessarily object-oriented design patterns but simple patterns that might be useful for everyday problem solving an OAs."
   ]
  },
  {
   "cell_type": "markdown",
   "metadata": {},
   "source": [
    "## Sliding Window"
   ]
  },
  {
   "cell_type": "markdown",
   "metadata": {},
   "source": [
    "Take some list of length `n`"
   ]
  },
  {
   "cell_type": "code",
   "execution_count": 2,
   "metadata": {
    "dotnet_interactive": {
     "language": "csharp"
    },
    "polyglot_notebook": {
     "kernelName": "csharp"
    }
   },
   "outputs": [
    {
     "name": "stdout",
     "output_type": "stream",
     "text": [
      "12345678910"
     ]
    }
   ],
   "source": [
    "var memory = Enumerable.Range(1, 10).ToArray().AsMemory();\n",
    "\n",
    "for (int i = 0; i < memory.Length; i++)\n",
    "{\n",
    "    Console.Write(memory.Span[i]);\n",
    "}"
   ]
  },
  {
   "cell_type": "markdown",
   "metadata": {},
   "source": [
    "Sometimes you want to iterate over slices of the array. You can do this with a `Span<T>`.\n",
    "\n",
    "The formula for bounds checking in a standard `for` loop with a slice is $i < len - windowSize + 1$."
   ]
  },
  {
   "cell_type": "code",
   "execution_count": 3,
   "metadata": {
    "dotnet_interactive": {
     "language": "csharp"
    },
    "polyglot_notebook": {
     "kernelName": "csharp"
    }
   },
   "outputs": [
    {
     "name": "stdout",
     "output_type": "stream",
     "text": [
      "0, 1, 2, 3, 4, 5, 6\n",
      "1, 2, 3, 4, 5, 6, 7\n",
      "2, 3, 4, 5, 6, 7, 8\n",
      "3, 4, 5, 6, 7, 8, 9\n"
     ]
    }
   ],
   "source": [
    "int windowSize = 7;\n",
    "\n",
    "memory = Enumerable.Range(0, 10).ToArray().AsMemory();\n",
    "\n",
    "for (int i = 0; i < memory.Length - windowSize + 1; i++)\n",
    "{\n",
    "    Console.WriteLine(memory.Span[i..(i + windowSize)].PrintSpan());\n",
    "}\n",
    "\n",
    "static string PrintSpan<T>(this Span<T> span)\n",
    "{\n",
    "    return string.Join(\", \", span.ToArray());\n",
    "}"
   ]
  },
  {
   "cell_type": "markdown",
   "metadata": {},
   "source": [
    "### `for` loop with no body\n",
    "Remember if you write a `for` loop without a body and put your body statement(s) next to your iteration statement, your body statement must come **before** the iteration statement because the iteration statement only runs _after_ the body has run at least once (\"index `0`\")."
   ]
  },
  {
   "cell_type": "markdown",
   "metadata": {},
   "source": [
    "Take the following code that checks whether a `Span<T>` is strictly increasing:"
   ]
  },
  {
   "cell_type": "code",
   "execution_count": 15,
   "metadata": {
    "dotnet_interactive": {
     "language": "csharp"
    },
    "polyglot_notebook": {
     "kernelName": "csharp"
    }
   },
   "outputs": [
    {
     "name": "stdout",
     "output_type": "stream",
     "text": [
      "12345"
     ]
    },
    {
     "ename": "Error",
     "evalue": "System.IndexOutOfRangeException: Index was outside the bounds of the array.\r\n   at Submission#16.IsStrictlyIncreasing(Span`1 span)\r\n   at Submission#16.<<Initialize>>d__0.MoveNext()\r\n--- End of stack trace from previous location ---\r\n   at Microsoft.CodeAnalysis.Scripting.ScriptExecutionState.RunSubmissionsAsync[TResult](ImmutableArray`1 precedingExecutors, Func`2 currentExecutor, StrongBox`1 exceptionHolderOpt, Func`2 catchExceptionOpt, CancellationToken cancellationToken)",
     "output_type": "error",
     "traceback": [
      "System.IndexOutOfRangeException: Index was outside the bounds of the array.\r\n",
      "   at Submission#16.IsStrictlyIncreasing(Span`1 span)\r\n",
      "   at Submission#16.<<Initialize>>d__0.MoveNext()\r\n",
      "--- End of stack trace from previous location ---\r\n",
      "   at Microsoft.CodeAnalysis.Scripting.ScriptExecutionState.RunSubmissionsAsync[TResult](ImmutableArray`1 precedingExecutors, Func`2 currentExecutor, StrongBox`1 exceptionHolderOpt, Func`2 catchExceptionOpt, CancellationToken cancellationToken)"
     ]
    }
   ],
   "source": [
    "var example = new int[] { 3, 4, 5, 6, 7, 8 };\n",
    "\n",
    "static bool IsStrictlyIncreasing(Span<int> span)\n",
    "{\n",
    "    bool pass = true;\n",
    "    for (int i = 0;\n",
    "        pass && i < span.Length - 2 + 1;\n",
    "        i++, Console.Write(i), pass &= (span[i + 1] > span[i]));\n",
    "\n",
    "    return pass;\n",
    "}\n",
    "\n",
    "IsStrictlyIncreasing(example)"
   ]
  },
  {
   "cell_type": "markdown",
   "metadata": {},
   "source": [
    "See how the iteration starts at `1`, then right before `pass &= (span[i + 1] > span[i])` `i is 5`, then an `IndexOutOfRangeException` is thrown when `span[5 + 1]` is accessed on a `Span` of `Length == 6`?"
   ]
  },
  {
   "cell_type": "markdown",
   "metadata": {},
   "source": [
    "Here's the fixed version:"
   ]
  },
  {
   "cell_type": "code",
   "execution_count": 17,
   "metadata": {
    "dotnet_interactive": {
     "language": "csharp"
    },
    "polyglot_notebook": {
     "kernelName": "csharp"
    }
   },
   "outputs": [
    {
     "data": {
      "text/html": [
       "<div class=\"dni-plaintext\"><pre>False</pre></div><style>\r\n",
       ".dni-code-hint {\r\n",
       "    font-style: italic;\r\n",
       "    overflow: hidden;\r\n",
       "    white-space: nowrap;\r\n",
       "}\r\n",
       ".dni-treeview {\r\n",
       "    white-space: nowrap;\r\n",
       "}\r\n",
       ".dni-treeview td {\r\n",
       "    vertical-align: top;\r\n",
       "    text-align: start;\r\n",
       "}\r\n",
       "details.dni-treeview {\r\n",
       "    padding-left: 1em;\r\n",
       "}\r\n",
       "table td {\r\n",
       "    text-align: start;\r\n",
       "}\r\n",
       "table tr { \r\n",
       "    vertical-align: top; \r\n",
       "    margin: 0em 0px;\r\n",
       "}\r\n",
       "table tr td pre \r\n",
       "{ \r\n",
       "    vertical-align: top !important; \r\n",
       "    margin: 0em 0px !important;\r\n",
       "} \r\n",
       "table th {\r\n",
       "    text-align: start;\r\n",
       "}\r\n",
       "</style>"
      ]
     },
     "metadata": {},
     "output_type": "display_data"
    }
   ],
   "source": [
    "var example = new int[] { 3, 3, 4 };\n",
    "\n",
    "static bool IsStrictlyIncreasing(Span<int> span)\n",
    "{\n",
    "    bool pass = true;\n",
    "    for (int i = 0;\n",
    "        pass && i < span.Length - 2 + 1;\n",
    "        pass &= (span[i + 1] > span[i]), i++);\n",
    "\n",
    "    return pass;\n",
    "}\n",
    "\n",
    "IsStrictlyIncreasing(example)"
   ]
  },
  {
   "cell_type": "markdown",
   "metadata": {},
   "source": [
    "You could also just use a `for` statement if you really don't want to have a body:"
   ]
  },
  {
   "cell_type": "code",
   "execution_count": 18,
   "metadata": {
    "dotnet_interactive": {
     "language": "csharp"
    },
    "polyglot_notebook": {
     "kernelName": "csharp"
    }
   },
   "outputs": [
    {
     "data": {
      "text/html": [
       "<div class=\"dni-plaintext\"><pre>True</pre></div><style>\r\n",
       ".dni-code-hint {\r\n",
       "    font-style: italic;\r\n",
       "    overflow: hidden;\r\n",
       "    white-space: nowrap;\r\n",
       "}\r\n",
       ".dni-treeview {\r\n",
       "    white-space: nowrap;\r\n",
       "}\r\n",
       ".dni-treeview td {\r\n",
       "    vertical-align: top;\r\n",
       "    text-align: start;\r\n",
       "}\r\n",
       "details.dni-treeview {\r\n",
       "    padding-left: 1em;\r\n",
       "}\r\n",
       "table td {\r\n",
       "    text-align: start;\r\n",
       "}\r\n",
       "table tr { \r\n",
       "    vertical-align: top; \r\n",
       "    margin: 0em 0px;\r\n",
       "}\r\n",
       "table tr td pre \r\n",
       "{ \r\n",
       "    vertical-align: top !important; \r\n",
       "    margin: 0em 0px !important;\r\n",
       "} \r\n",
       "table th {\r\n",
       "    text-align: start;\r\n",
       "}\r\n",
       "</style>"
      ]
     },
     "metadata": {},
     "output_type": "display_data"
    }
   ],
   "source": [
    "var example = new int[] { 3, 4, 5 };\n",
    "\n",
    "static bool IsStrictlyIncreasing(Span<int> span)\n",
    "{\n",
    "    bool pass = true;\n",
    "    for (\n",
    "            int i = 0;\n",
    "            i < span.Length - 2 + 1 && pass;\n",
    "            i++\n",
    "        )\n",
    "        pass &= (span[i + 1] > span[i]);\n",
    "\n",
    "    return pass;\n",
    "}\n",
    "\n",
    "IsStrictlyIncreasing(example)"
   ]
  },
  {
   "cell_type": "markdown",
   "metadata": {},
   "source": [
    "Or format the code differently:"
   ]
  },
  {
   "cell_type": "code",
   "execution_count": 22,
   "metadata": {
    "dotnet_interactive": {
     "language": "csharp"
    },
    "polyglot_notebook": {
     "kernelName": "csharp"
    }
   },
   "outputs": [
    {
     "data": {
      "text/html": [
       "<div class=\"dni-plaintext\"><pre>True</pre></div><style>\r\n",
       ".dni-code-hint {\r\n",
       "    font-style: italic;\r\n",
       "    overflow: hidden;\r\n",
       "    white-space: nowrap;\r\n",
       "}\r\n",
       ".dni-treeview {\r\n",
       "    white-space: nowrap;\r\n",
       "}\r\n",
       ".dni-treeview td {\r\n",
       "    vertical-align: top;\r\n",
       "    text-align: start;\r\n",
       "}\r\n",
       "details.dni-treeview {\r\n",
       "    padding-left: 1em;\r\n",
       "}\r\n",
       "table td {\r\n",
       "    text-align: start;\r\n",
       "}\r\n",
       "table tr { \r\n",
       "    vertical-align: top; \r\n",
       "    margin: 0em 0px;\r\n",
       "}\r\n",
       "table tr td pre \r\n",
       "{ \r\n",
       "    vertical-align: top !important; \r\n",
       "    margin: 0em 0px !important;\r\n",
       "} \r\n",
       "table th {\r\n",
       "    text-align: start;\r\n",
       "}\r\n",
       "</style>"
      ]
     },
     "metadata": {},
     "output_type": "display_data"
    }
   ],
   "source": [
    "var example = new int[] { 3, 4, 5 };\n",
    "\n",
    "static bool IsStrictlyIncreasing(Span<int> span)\n",
    "{\n",
    "    bool pass = true;\n",
    "    for (\n",
    "            int i = 0;\n",
    "            i < span.Length - 2 + 1 && pass;\n",
    "                pass &= (span[i + 1] > span[i]),\n",
    "            i++\n",
    "        );\n",
    "\n",
    "    return pass;\n",
    "}\n",
    "\n",
    "IsStrictlyIncreasing(example)"
   ]
  },
  {
   "cell_type": "markdown",
   "metadata": {},
   "source": [
    "I feel like every suggestion I've thrown here could make a certain type of programmer very angry, but I actually like that last one. I dislike that the iterator statement(s) in a `for` loop come before the body but are executed after. I think it leads to a lot of \"off-by-one\" errors for new programmers. Notably, F# doesn't have this problem because control over the iteration is either taken from you (`for...in` / `for...to`) or you are made to do it manually (`while...do`)."
   ]
  }
 ],
 "metadata": {
  "kernelspec": {
   "display_name": ".NET (C#)",
   "language": "C#",
   "name": ".net-csharp"
  },
  "language_info": {
   "name": "polyglot-notebook"
  },
  "polyglot_notebook": {
   "kernelInfo": {
    "defaultKernelName": "csharp",
    "items": [
     {
      "aliases": [],
      "languageName": "csharp",
      "name": "csharp"
     }
    ]
   }
  }
 },
 "nbformat": 4,
 "nbformat_minor": 2
}
